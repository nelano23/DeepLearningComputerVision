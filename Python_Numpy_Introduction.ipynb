{
  "cells": [
    {
      "cell_type": "markdown",
      "metadata": {
        "id": "3q4llFOQmyHN"
      },
      "source": [
        "# Basic data types"
      ]
    },
    {
      "cell_type": "code",
      "execution_count": null,
      "metadata": {
        "id": "UccS9GLXm2Q7",
        "colab": {
          "base_uri": "https://localhost:8080/"
        },
        "outputId": "be138c60-a237-48be-d4a8-9a2f5cdf38a7"
      },
      "outputs": [
        {
          "output_type": "stream",
          "name": "stdout",
          "text": [
            "<class 'int'>\n",
            "4\n",
            "3\n",
            "6\n",
            "36\n"
          ]
        }
      ],
      "source": [
        "#Integers\n",
        "x = 3\n",
        "#print the type of x\n",
        "\n",
        "print (type(x))\n",
        "\n",
        "# Addition : add 1 to x and print the result\n",
        "\n",
        "x+=1\n",
        "print (x)\n",
        "\n",
        "# Subtraction; subtract 1 from x and print the result\n",
        "\n",
        "x-=1\n",
        "\n",
        "print (x)\n",
        "# Multiplication; multiply x with 2 and print the result\n",
        "\n",
        "x *= 2\n",
        "print (x)\n",
        "# Exponentiation; print the square of x\n",
        "x= x**2\n",
        "\n",
        "print (x)"
      ]
    },
    {
      "cell_type": "code",
      "execution_count": null,
      "metadata": {
        "id": "gDNf97w0oSxB",
        "colab": {
          "base_uri": "https://localhost:8080/"
        },
        "outputId": "3a858728-628d-48b5-a975-bff431464cf8"
      },
      "outputs": [
        {
          "output_type": "stream",
          "name": "stdout",
          "text": [
            "<class 'float'>\n",
            "6.25\n",
            "9.25\n"
          ]
        }
      ],
      "source": [
        "#floats\n",
        "y = 2.5\n",
        "#print the type of y\n",
        "\n",
        "print (type (y))\n",
        "#use operator *= to double the value of y and print y\n",
        "y *= y\n",
        "print (y)\n",
        "\n",
        "#use operator += to add 3 to y and print y\n",
        "\n",
        "y += 3\n",
        "\n",
        "print (y)\n"
      ]
    },
    {
      "cell_type": "code",
      "execution_count": null,
      "metadata": {
        "id": "4xaTfgDyozmB",
        "colab": {
          "base_uri": "https://localhost:8080/"
        },
        "outputId": "ce841607-6756-4e3e-8fdf-b55e041604a8"
      },
      "outputs": [
        {
          "output_type": "stream",
          "name": "stdout",
          "text": [
            "Hello\n",
            "HELLO\n",
            "hello\n",
            "hello\n",
            "heellello\n",
            "world\n"
          ]
        }
      ],
      "source": [
        "#Strings\n",
        "s = \"hello\"\n",
        "# Capitalize the above string and print it\n",
        "print(s.capitalize())\n",
        "\n",
        "#Convert the string to uppercase and print it\n",
        "print(s.upper())\n",
        "# Right-justify the string, padding with 2 spaces print it;\n",
        "print (s.rjust(2))\n",
        "# Center the string, padding with 2 spaces print it;\n",
        "print(s.center(2))\n",
        "\n",
        "# Replace all instances of letter l  with \"(ell)\" and print it;\n",
        "s = s. replace(\"l\", \"ell\")\n",
        "print(s)\n",
        "\n",
        "str = \" world \"\n",
        "# Strip leading and trailing whitespace in the above string and print\n",
        "str = str.strip()\n",
        "print (str)"
      ]
    },
    {
      "cell_type": "markdown",
      "metadata": {
        "id": "ZRK4igr0r5Qc"
      },
      "source": [
        "# Containers"
      ]
    },
    {
      "cell_type": "code",
      "execution_count": null,
      "metadata": {
        "colab": {
          "base_uri": "https://localhost:8080/"
        },
        "id": "tkt3cWoYrCop",
        "outputId": "9074541c-866e-4ac1-eca0-3fb98ab03cca"
      },
      "outputs": [
        {
          "output_type": "stream",
          "name": "stdout",
          "text": [
            "[1, 2, 3, 'foo']\n",
            "[1, 2, 3, 'foo', ['bar']]\n",
            "[1, 2, 3, 'foo', ['bar'], 'bar']\n",
            "[1, 2, 3, 'foo', ['bar']]\n"
          ]
        }
      ],
      "source": [
        "#Lists\n",
        "#create a list of first five natural numbers\n",
        "list1 = [1,2,3,4]\n",
        "#change the 3rd element to \"foo\" and print list1\n",
        "list1[3] = \"foo\"\n",
        "print (list1)\n",
        "\n",
        "list2 = [\"bar\"]\n",
        "#append list2 to list1 and print the result\n",
        "list1.append(list2)\n",
        "\n",
        "print(list1)\n",
        "#add list2 to list1 using extend and print the result\n",
        "\n",
        "list1.extend(list2)\n",
        "\n",
        "print(list1)\n",
        "#remove last element in list1 using pop and print list1\n",
        "list1.pop(-1)\n",
        "print(list1)\n"
      ]
    },
    {
      "cell_type": "code",
      "execution_count": null,
      "metadata": {
        "colab": {
          "base_uri": "https://localhost:8080/"
        },
        "id": "fcayPpYjtla-",
        "outputId": "82312ee6-ea41-4f65-f886-640ecb8ba319"
      },
      "outputs": [
        {
          "output_type": "stream",
          "name": "stdout",
          "text": [
            "[2, 3]\n",
            "[2, 3]\n",
            "[0, 1]\n",
            "[0, 1, 8, 9, 4]\n"
          ]
        }
      ],
      "source": [
        "#Slicing\n",
        "nums = list(range(5))\n",
        "#print a slice from index 2 to 4 (exclusive)\n",
        "print(nums[2:4])\n",
        "#print a slice from index 2 to 4 (exclusive)\n",
        "print(nums[2:4])\n",
        "# Slice indices can be negative;\n",
        "print(nums[:-3])\n",
        "# Assign the [8,9] new list to a slice from index 2 to 4 (exclusive)\n",
        "nums[2:4] = [8,9]\n",
        "print (nums)"
      ]
    },
    {
      "cell_type": "code",
      "execution_count": null,
      "metadata": {
        "id": "v-PI9dt3uxkx",
        "colab": {
          "base_uri": "https://localhost:8080/"
        },
        "outputId": "60951ec9-8bd4-42c3-f01c-e59bfe44490f"
      },
      "outputs": [
        {
          "output_type": "stream",
          "name": "stdout",
          "text": [
            "[0, 1, 4, 9, 16]\n",
            "(0, 'cat')\n",
            "(1, 'dog')\n",
            "(2, 'monkey')\n",
            "[0, 4, 16]\n"
          ]
        }
      ],
      "source": [
        "#Loops\n",
        "nums = [0, 1, 2, 3, 4]\n",
        "squares = []\n",
        "# append squares of each element in nums to squares using for loop\n",
        "\n",
        "for x in nums:\n",
        "  squares.append(x**2)\n",
        "print(squares)\n",
        "####\n",
        "\n",
        "animals = ['cat', 'dog', 'monkey']\n",
        "#print index and elements in the list using enumerate and for loop\n",
        "for x in enumerate(animals):\n",
        "  print(x)\n",
        "\n",
        "\n",
        "#print squares of even numbers using list comprehensions\n",
        "nums = [0, 1, 2, 3, 4]\n",
        "even_squares = []\n",
        "for x in nums:\n",
        "  if (x % 2) == 0:\n",
        "    even_squares.append(x**2)\n",
        "print(even_squares)"
      ]
    },
    {
      "cell_type": "code",
      "execution_count": null,
      "metadata": {
        "id": "Odzrj6_Nv51m",
        "colab": {
          "base_uri": "https://localhost:8080/"
        },
        "outputId": "fb94b470-154a-4d1a-8fb8-dfe1730c191e"
      },
      "outputs": [
        {
          "output_type": "stream",
          "name": "stdout",
          "text": [
            "{'cat': 'cute', 'dog': 'furry'}\n",
            "{'cat': 'cute', 'dog': 'furry', 'fish': 'wet'}\n",
            "{'dog': 'furry', 'fish': 'wet'}\n",
            "N/A\n",
            "wet\n",
            "dict_keys(['dog', 'fish'])\n",
            "dict_values(['furry', 'wet'])\n"
          ]
        }
      ],
      "source": [
        "#Dictionaries\n",
        "#create a dictionary with keys = (cat, dog) and items = (cute,furry)\n",
        "d = {'cat': 'cute', 'dog':'furry'}\n",
        "print(d)\n",
        "#set an entry {fish:wet}\n",
        "d['fish'] = 'wet'\n",
        "print(d)\n",
        "#remove the entry with key= cat\n",
        "del d ['cat']\n",
        "print(d)\n",
        "# Get an element with a default;\n",
        "print(d.get('monkey', 'N/A'))\n",
        "# get an element with key= fish and print it\n",
        "print(d.get('fish'))\n",
        "#print all keys in dictionary\n",
        "print(d.keys())\n",
        "#print all items in dictionary\n",
        "print(d.values())"
      ]
    },
    {
      "cell_type": "code",
      "execution_count": null,
      "metadata": {
        "id": "DAZXgnPqwNrB",
        "colab": {
          "base_uri": "https://localhost:8080/"
        },
        "outputId": "a0dbd3eb-871e-4607-a5da-16c7975550ce"
      },
      "outputs": [
        {
          "output_type": "stream",
          "name": "stdout",
          "text": [
            "{'cat', 'dog', 'fish'}\n",
            "{'monkey', 'cat', 'dog', 'fish'}\n",
            "{'monkey', 'cat', 'dog'}\n",
            "False\n"
          ]
        }
      ],
      "source": [
        "#sets\n",
        "#create a set with elements cat, dog and fish\n",
        "s = {\"cat\",\"dog\",\"fish\"}\n",
        "print (s)\n",
        "#add monkey to the set\n",
        "s.add(\"monkey\")\n",
        "print(s)\n",
        "#remove fish from the set\n",
        "s.remove(\"fish\")\n",
        "print(s)\n",
        "#checks if an element is in the set\n",
        "print('fish' in animals)"
      ]
    },
    {
      "cell_type": "markdown",
      "metadata": {
        "id": "1hOHkVTbFVk8"
      },
      "source": [
        "# Numpy"
      ]
    },
    {
      "cell_type": "code",
      "execution_count": null,
      "metadata": {
        "id": "uG2OTLa9FTqL",
        "colab": {
          "base_uri": "https://localhost:8080/"
        },
        "outputId": "532d38ed-1067-4f73-8ce2-e5cc44110dba"
      },
      "outputs": [
        {
          "output_type": "stream",
          "name": "stdout",
          "text": [
            "(2, 3)\n",
            "[[0. 0.]\n",
            " [0. 0.]]\n",
            "[[1. 1.]]\n",
            "[[7 7 7]\n",
            " [7 7 7]\n",
            " [7 7 7]]\n",
            "[[0.94544806 0.62456636]\n",
            " [0.83346872 0.60852071]]\n"
          ]
        }
      ],
      "source": [
        "#importing the numpy package\n",
        "import numpy as np\n",
        "b = np.array([[1,2,3],[4,5,6]])    # Create a rank 2 array\n",
        "#print the shape of the array\n",
        "print(b.shape)\n",
        "#print an array of all zeros of shape(2,2)\n",
        "print(np.zeros((2,2)))\n",
        "#print an array of all ones of shape(1,2)\n",
        "print(np.ones((1,2)))\n",
        "#print an array of shape (3,3) with all elements in array = 7\n",
        "print(np.full((3,3), 7))\n",
        "#print an array filled with random values of shape (2,2)\n",
        "print(np.random.rand(2,2))"
      ]
    },
    {
      "cell_type": "code",
      "execution_count": null,
      "metadata": {
        "id": "IYiYxnHYP2L5",
        "colab": {
          "base_uri": "https://localhost:8080/"
        },
        "outputId": "fe1fa6f6-dc81-415c-9e69-7451095159dc"
      },
      "outputs": [
        {
          "output_type": "stream",
          "name": "stdout",
          "text": [
            "[1 2]\n",
            "1\n",
            "6\n",
            "7\n",
            "11\n",
            "[[11  2  3]\n",
            " [ 4  5 16]\n",
            " [17  8  9]\n",
            " [10 21 12]]\n"
          ]
        }
      ],
      "source": [
        "#ARRAY INDEXING\n",
        "\n",
        "a = np.array([[1,2,3,4], [5,6,7,8], [9,10,11,12]])\n",
        "# Use slicing to print out the subarray consisting of the first 2 rows and columns 1 and 2;\n",
        "print(a[0,:2])\n",
        "a = np.array([[1,2,3], [4,5,6], [7,8,9], [10, 11, 12]])\n",
        "b = np.array([0, 2, 0, 1])\n",
        "# print one element from each row of a using the indices in b\n",
        "for i,x in enumerate(b):\n",
        "  print(a[i,x])\n",
        "# add 10 to one element from each row of a using the indices in b\n",
        "for i,x in enumerate(b):\n",
        "  a[i,x]+=10\n",
        "print(a)"
      ]
    },
    {
      "cell_type": "code",
      "execution_count": null,
      "metadata": {
        "id": "OYsgl7PtSzq-",
        "colab": {
          "base_uri": "https://localhost:8080/"
        },
        "outputId": "3c73f4a4-e595-4c7c-ab89-0bef96a06d62"
      },
      "outputs": [
        {
          "output_type": "stream",
          "name": "stdout",
          "text": [
            "[[False False]\n",
            " [ True  True]\n",
            " [ True  True]]\n",
            "[3 4 5 6]\n",
            "int64\n",
            "[[1 2]\n",
            " [3 4]]\n"
          ]
        }
      ],
      "source": [
        "#Boolean array indexing\n",
        "a = np.array([[1,2], [3, 4], [5, 6]])\n",
        "#Print a numpy array of Booleans where elements of a are bigger than 2 ,shape=(3,2)\n",
        "print(a > 2)\n",
        "\n",
        "#a rank 1 array consisting of the elements of a that are bigger than 2\n",
        "print(a[a > 2])\n",
        "\n",
        "x = np.array([1, 2])\n",
        "#print data type of the array\n",
        "print(x.dtype)\n",
        "#create an array [[1,2],[3,4]] with data type int64.\n",
        "y = np.array([[1,2],[3,4]], dtype=np.int64)\n",
        "print(y)"
      ]
    },
    {
      "cell_type": "code",
      "execution_count": null,
      "metadata": {
        "id": "VZoDHzWSUk3_",
        "colab": {
          "base_uri": "https://localhost:8080/"
        },
        "outputId": "e6b039c1-c8f6-4953-aaeb-4edddb1473bb"
      },
      "outputs": [
        {
          "output_type": "stream",
          "name": "stdout",
          "text": [
            "[[ 6.  8.]\n",
            " [10. 12.]]\n",
            "[[-4. -4.]\n",
            " [-4. -4.]]\n",
            "[[ 5. 12.]\n",
            " [21. 32.]]\n",
            "[[0.2        0.33333333]\n",
            " [0.42857143 0.5       ]]\n",
            "[[1.         1.41421356]\n",
            " [1.73205081 2.        ]]\n"
          ]
        }
      ],
      "source": [
        "#Array math\n",
        "x = np.array([[1,2],[3,4]], dtype=np.float64)\n",
        "y = np.array([[5,6],[7,8]], dtype=np.float64)\n",
        "#print elementwise addition using numpy function\n",
        "print(np.add(x, y))\n",
        "\n",
        "#print elementwise difference using numpy function\n",
        "print(np.subtract(x, y))\n",
        "\n",
        "#print elementwise multiplication using numpy function\n",
        "print(np.multiply(x, y))\n",
        "#print elementwise division using numpy function\n",
        "print(np.divide(x, y))\n",
        "#print elementwise square root using numpy function\n",
        "print(np.sqrt(x))"
      ]
    },
    {
      "cell_type": "code",
      "execution_count": null,
      "metadata": {
        "id": "TmMfplkRVZIu",
        "colab": {
          "base_uri": "https://localhost:8080/"
        },
        "outputId": "8779e0db-27b4-4d45-8eab-9430e2309362"
      },
      "outputs": [
        {
          "output_type": "stream",
          "name": "stdout",
          "text": [
            "219\n",
            "[29 67]\n",
            "[[19 22]\n",
            " [43 50]]\n"
          ]
        }
      ],
      "source": [
        "x = np.array([[1,2],[3,4]])\n",
        "y = np.array([[5,6],[7,8]])\n",
        "\n",
        "v = np.array([9,10])\n",
        "w = np.array([11, 12])\n",
        "\n",
        "#print Inner product of vectors\n",
        "print(np.dot(v,w))\n",
        "#print matrix / vector product of x and v\n",
        "print(np.dot(x,v))\n",
        "#print matrix / vector product of x and y\n",
        "print(np.dot(x,y))"
      ]
    },
    {
      "cell_type": "code",
      "execution_count": null,
      "metadata": {
        "id": "5_Iy6xwGXVS8",
        "colab": {
          "base_uri": "https://localhost:8080/"
        },
        "outputId": "9bfc8b6d-298c-42a2-cb34-792c8b4c078a"
      },
      "outputs": [
        {
          "output_type": "stream",
          "name": "stdout",
          "text": [
            "10\n",
            "[3 7]\n",
            "[4 6]\n"
          ]
        }
      ],
      "source": [
        "x = np.array([[1,2],[3,4]])\n",
        "#print sum of all elements in array\n",
        "print(np.sum(x))\n",
        "\n",
        "\n",
        "#print sum of elements in each row\n",
        "print(np.sum(x, axis=1))\n",
        "\n",
        "#print sum of elements in each column\n",
        "print(np.sum(x, axis=0))"
      ]
    },
    {
      "cell_type": "code",
      "execution_count": null,
      "metadata": {
        "id": "dwkaL3GSZiBl",
        "colab": {
          "base_uri": "https://localhost:8080/"
        },
        "outputId": "329080f1-7313-45b0-b0e1-5e04844d6b03"
      },
      "outputs": [
        {
          "output_type": "stream",
          "name": "stdout",
          "text": [
            "[[4.9e-324 9.9e-324 1.5e-323]\n",
            " [2.0e-323 2.5e-323 3.0e-323]\n",
            " [3.5e-323 4.0e-323 4.4e-323]\n",
            " [4.9e-323 5.4e-323 5.9e-323]]\n",
            "[[ 2  2  4]\n",
            " [ 5  5  7]\n",
            " [ 8  8 10]\n",
            " [11 11 13]]\n",
            "[[ 2  2  4]\n",
            " [ 5  5  7]\n",
            " [ 8  8 10]\n",
            " [11 11 13]]\n"
          ]
        }
      ],
      "source": [
        "x = np.array([[1,2,3], [4,5,6], [7,8,9], [10, 11, 12]])\n",
        "v = np.array([1, 0, 1])\n",
        "#Create an empty matrix with the same shape as x and print\n",
        "print(np.empty(x.shape))\n",
        "# create an array y by adding  the vector v to each row of the matrix x with an explicit loop\n",
        "y = np.zeros_like(x)\n",
        "for i in range(4):\n",
        "  y[i,:] = x[i,:] + v\n",
        "\n",
        "#print y\n",
        "print(y)\n",
        "\n",
        "\n",
        "#Add v to each row of x using broadcasting\n",
        "#store the result in matrix y and print y\n",
        "y = x + v\n",
        "print(y)\n"
      ]
    },
    {
      "cell_type": "code",
      "execution_count": null,
      "metadata": {
        "id": "apNuOG-_bomv",
        "colab": {
          "base_uri": "https://localhost:8080/"
        },
        "outputId": "15cceb5a-15e9-4943-feec-8ee801dbdf26"
      },
      "outputs": [
        {
          "output_type": "stream",
          "name": "stdout",
          "text": [
            "[[1]\n",
            " [2]\n",
            " [3]]\n"
          ]
        }
      ],
      "source": [
        "v = np.array([1,2,3])\n",
        "w = np.array([4,5])\n",
        "#reshape v to(3,1) using numpy function and print it\n",
        "print(np.reshape(v,(3,1)))"
      ]
    }
  ],
  "metadata": {
    "colab": {
      "provenance": []
    },
    "kernelspec": {
      "display_name": "Python 3 (ipykernel)",
      "language": "python",
      "name": "python3"
    },
    "language_info": {
      "codemirror_mode": {
        "name": "ipython",
        "version": 3
      },
      "file_extension": ".py",
      "mimetype": "text/x-python",
      "name": "python",
      "nbconvert_exporter": "python",
      "pygments_lexer": "ipython3",
      "version": "3.9.7"
    }
  },
  "nbformat": 4,
  "nbformat_minor": 0
}